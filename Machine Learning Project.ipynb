{
 "cells": [
  {
   "cell_type": "markdown",
   "id": "f72b402a",
   "metadata": {},
   "source": [
    "# Preprocessing "
   ]
  },
  {
   "cell_type": "code",
   "execution_count": 2,
   "id": "384634f1",
   "metadata": {
    "scrolled": true
   },
   "outputs": [],
   "source": [
    "# Import modules\n",
    "import pandas as pd\n",
    "import numpy as np\n",
    "from sklearn.impute import SimpleImputer as si\n",
    "from sklearn.preprocessing import LabelEncoder, OneHotEncoder, MinMaxScaler \n",
    "from sklearn.model_selection import train_test_split\n",
    "from sklearn.metrics import confusion_matrix"
   ]
  },
  {
   "cell_type": "code",
   "execution_count": 3,
   "id": "6abba88c",
   "metadata": {},
   "outputs": [],
   "source": [
    "# Loading the dataset\n",
    "data = pd.read_csv(\"Cancer_Data.csv\")\n",
    "#display(data.head(n=100))"
   ]
  },
  {
   "cell_type": "code",
   "execution_count": 4,
   "id": "c5dcab7e",
   "metadata": {},
   "outputs": [],
   "source": [
    "# Divide the data into input and output\n",
    "x = data.iloc[:,:-1].values\n",
    "y = data.iloc[:,-1].values"
   ]
  },
  {
   "cell_type": "code",
   "execution_count": 5,
   "id": "63889492",
   "metadata": {},
   "outputs": [],
   "source": [
    "# Replace missing data with the average of the columns values\n",
    "imputer = si(missing_values=np.nan,strategy='mean')\n",
    "\n",
    "x[:,1:33]=imputer.fit_transform(x[:,1:33])"
   ]
  },
  {
   "cell_type": "code",
   "execution_count": 6,
   "id": "67ca5176",
   "metadata": {},
   "outputs": [],
   "source": [
    "# Encoding the output to 0s and 1s\n",
    "lb=LabelEncoder()\n",
    "y=lb.fit_transform(y)"
   ]
  },
  {
   "cell_type": "code",
   "execution_count": 7,
   "id": "027bb096",
   "metadata": {
    "scrolled": true
   },
   "outputs": [],
   "source": [
    "# Scaling the input \n",
    "sc=MinMaxScaler()\n",
    "x[:,1:]=sc.fit_transform(x[:,1:])"
   ]
  },
  {
   "cell_type": "code",
   "execution_count": 8,
   "id": "30e8f3b6",
   "metadata": {},
   "outputs": [],
   "source": [
    "# Splitting the dataset into the Training set and Test set\n",
    "x_train,x_test,y_train,y_test=train_test_split(x,y,train_size=.8,random_state=0)"
   ]
  },
  {
   "cell_type": "code",
   "execution_count": 14,
   "id": "1ec23df8",
   "metadata": {},
   "outputs": [
    {
     "name": "stdout",
     "output_type": "stream",
     "text": [
      "RandomForestClassifier(random_state=0) :\n",
      " [[66  1]\n",
      " [ 2 45]]\n",
      "DecisionTreeClassifier(random_state=0) :\n",
      " [[59  8]\n",
      " [ 3 44]]\n",
      "GaussianNB() :\n",
      " [[66  1]\n",
      " [45  2]]\n"
     ]
    }
   ],
   "source": [
    "# models\n",
    "from sklearn.ensemble import RandomForestClassifier\n",
    "from sklearn.tree import DecisionTreeClassifier\n",
    "from sklearn.naive_bayes import GaussianNB\n",
    "from sklearn.metrics import confusion_matrix\n",
    "\n",
    "random = RandomForestClassifier(random_state=0)\n",
    "DT = DecisionTreeClassifier(random_state=0)\n",
    "Naive = GaussianNB()\n",
    "\n",
    "clfs = [random, DT, Naive]\n",
    "pred = {}\n",
    "cm = {}\n",
    "for clf in clfs:\n",
    "    # Fitiing\n",
    "    clf.fit(x_train, y_train)\n",
    "    pred[clf] = clf.predict(x_test)\n",
    "    \n",
    "    # Making the Confusion Matrix\n",
    "    cm[clf] = confusion_matrix(y_test, pred[clf])\n",
    "for name, cm in (cm.items()):\n",
    "    print(name, \":\\n\", cm)"
   ]
  },
  {
   "cell_type": "code",
   "execution_count": null,
   "id": "85e23022",
   "metadata": {},
   "outputs": [],
   "source": []
  }
 ],
 "metadata": {
  "kernelspec": {
   "display_name": "Python 3 (ipykernel)",
   "language": "python",
   "name": "python3"
  },
  "language_info": {
   "codemirror_mode": {
    "name": "ipython",
    "version": 3
   },
   "file_extension": ".py",
   "mimetype": "text/x-python",
   "name": "python",
   "nbconvert_exporter": "python",
   "pygments_lexer": "ipython3",
   "version": "3.9.12"
  }
 },
 "nbformat": 4,
 "nbformat_minor": 5
}
